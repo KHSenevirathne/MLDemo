{
 "cells": [
  {
   "cell_type": "code",
   "execution_count": null,
   "id": "0141ae96-a53b-4d62-b693-7daf276438a8",
   "metadata": {},
   "outputs": [
    {
     "name": "stdout",
     "output_type": "stream",
     "text": [
      "  a  b  c  d  e  f g  h\n",
      "8 ♜ ♞ ♝ ♛ ♚ ♝ ♞ ♜ 8\n",
      "7 ♟ ♟ ♟ ♟ ♟ ♟ ♟ ♟ 7\n",
      "6 .  .  .  .  .  . .  . 6\n",
      "5 .  .  .  .  .  . .  . 5\n",
      "4 .  .  .  .  .  . .  . 4\n",
      "3 .  .  .  .  .  . .  . 3\n",
      "2 ♙ ♙ ♙ ♙ ♙ ♙ ♙ ♙ 2\n",
      "1 ♖ ♘ ♗ ♕ ♔ ♗ ♘ ♖ 1\n",
      "  a  b  c  d  e f  g  h\n",
      "\n"
     ]
    },
    {
     "name": "stdin",
     "output_type": "stream",
     "text": [
      "White's move (e.g., e2 e4) or type 'quit':  a2 a3\n"
     ]
    },
    {
     "name": "stdout",
     "output_type": "stream",
     "text": [
      "  a  b  c  d  e  f g  h\n",
      "8 ♜ ♞ ♝ ♛ ♚ ♝ ♞ ♜ 8\n",
      "7 ♟ ♟ ♟ ♟ ♟ ♟ ♟ ♟ 7\n",
      "6 .  .  .  .  .  . .  . 6\n",
      "5 .  .  .  .  .  . .  . 5\n",
      "4 .  .  .  .  .  . .  . 4\n",
      "3 ♙  .  .  .  .  . .  . 3\n",
      "2 . ♙ ♙ ♙ ♙ ♙ ♙ ♙ 2\n",
      "1 ♖ ♘ ♗ ♕ ♔ ♗ ♘ ♖ 1\n",
      "  a  b  c  d  e f  g  h\n",
      "\n"
     ]
    },
    {
     "name": "stdin",
     "output_type": "stream",
     "text": [
      "Black's move (e.g., e2 e4) or type 'quit':  e7 e5\n"
     ]
    },
    {
     "name": "stdout",
     "output_type": "stream",
     "text": [
      "  a  b  c  d  e  f g  h\n",
      "8 ♜ ♞ ♝ ♛ ♚ ♝ ♞ ♜ 8\n",
      "7 ♟ ♟ ♟ ♟ . ♟ ♟ ♟ 7\n",
      "6 .  .  .  .  .  . .  . 6\n",
      "5 .  .  .  . ♟  . .  . 5\n",
      "4 .  .  .  .  .  . .  . 4\n",
      "3 ♙  .  .  .  .  . .  . 3\n",
      "2 . ♙ ♙ ♙ ♙ ♙ ♙ ♙ 2\n",
      "1 ♖ ♘ ♗ ♕ ♔ ♗ ♘ ♖ 1\n",
      "  a  b  c  d  e f  g  h\n",
      "\n"
     ]
    },
    {
     "name": "stdin",
     "output_type": "stream",
     "text": [
      "White's move (e.g., e2 e4) or type 'quit':  h1 h3\n"
     ]
    },
    {
     "name": "stdout",
     "output_type": "stream",
     "text": [
      "  a  b  c  d  e  f g  h\n",
      "8 ♜ ♞ ♝ ♛ ♚ ♝ ♞ ♜ 8\n",
      "7 ♟ ♟ ♟ ♟ . ♟ ♟ ♟ 7\n",
      "6 .  .  .  .  .  . .  . 6\n",
      "5 .  .  .  . ♟  . .  . 5\n",
      "4 .  .  .  .  .  . .  . 4\n",
      "3 ♙  .  .  .  .  . . ♖ 3\n",
      "2 . ♙ ♙ ♙ ♙ ♙ ♙ ♙ 2\n",
      "1 ♖ ♘ ♗ ♕ ♔ ♗ ♘ . 1\n",
      "  a  b  c  d  e f  g  h\n",
      "\n"
     ]
    },
    {
     "name": "stdin",
     "output_type": "stream",
     "text": [
      "Black's move (e.g., e2 e4) or type 'quit':  e1 e8\n"
     ]
    },
    {
     "name": "stdout",
     "output_type": "stream",
     "text": [
      "  a  b  c  d  e  f g  h\n",
      "8 ♜ ♞ ♝ ♛ ♔ ♝ ♞ ♜ 8\n",
      "7 ♟ ♟ ♟ ♟ . ♟ ♟ ♟ 7\n",
      "6 .  .  .  .  .  . .  . 6\n",
      "5 .  .  .  . ♟  . .  . 5\n",
      "4 .  .  .  .  .  . .  . 4\n",
      "3 ♙  .  .  .  .  . . ♖ 3\n",
      "2 . ♙ ♙ ♙ ♙ ♙ ♙ ♙ 2\n",
      "1 ♖ ♘ ♗ ♕ . ♗ ♘ . 1\n",
      "  a  b  c  d  e f  g  h\n",
      "\n"
     ]
    },
    {
     "name": "stdin",
     "output_type": "stream",
     "text": [
      "White's move (e.g., e2 e4) or type 'quit':  e8 e1\n"
     ]
    },
    {
     "name": "stdout",
     "output_type": "stream",
     "text": [
      "  a  b  c  d  e  f g  h\n",
      "8 ♜ ♞ ♝ ♛ . ♝ ♞ ♜ 8\n",
      "7 ♟ ♟ ♟ ♟ . ♟ ♟ ♟ 7\n",
      "6 .  .  .  .  .  . .  . 6\n",
      "5 .  .  .  . ♟  . .  . 5\n",
      "4 .  .  .  .  .  . .  . 4\n",
      "3 ♙  .  .  .  .  . . ♖ 3\n",
      "2 . ♙ ♙ ♙ ♙ ♙ ♙ ♙ 2\n",
      "1 ♖ ♘ ♗ ♕ ♔ ♗ ♘ . 1\n",
      "  a  b  c  d  e f  g  h\n",
      "\n"
     ]
    },
    {
     "name": "stdin",
     "output_type": "stream",
     "text": [
      "Black's move (e.g., e2 e4) or type 'quit':  e5 e8\n"
     ]
    },
    {
     "name": "stdout",
     "output_type": "stream",
     "text": [
      "  a  b  c  d  e  f g  h\n",
      "8 ♜ ♞ ♝ ♛ ♟ ♝ ♞ ♜ 8\n",
      "7 ♟ ♟ ♟ ♟ . ♟ ♟ ♟ 7\n",
      "6 .  .  .  .  .  . .  . 6\n",
      "5 .  .  .  . .  . .  . 5\n",
      "4 .  .  .  .  .  . .  . 4\n",
      "3 ♙  .  .  .  .  . . ♖ 3\n",
      "2 . ♙ ♙ ♙ ♙ ♙ ♙ ♙ 2\n",
      "1 ♖ ♘ ♗ ♕ ♔ ♗ ♘ . 1\n",
      "  a  b  c  d  e f  g  h\n",
      "\n"
     ]
    }
   ],
   "source": [
    "# simple_chess.py\n",
    "\n",
    "class ChessBoard:\n",
    "    def __init__(self):\n",
    "        # Board is an 8x8 list of lists.\n",
    "        # Rows 0 to 7 correspond to ranks 8 to 1.\n",
    "        self.board = [\n",
    "            [\"♜\", \"♞\", \"♝\", \"♛\", \"♚\", \"♝\", \"♞\", \"♜\"],\n",
    "            [\"♟\", \"♟\", \"♟\", \"♟\", \"♟\", \"♟\", \"♟\", \"♟\"],\n",
    "            [\".\", \" .\", \" .\", \" .\", \" .\", \" .\", \".\", \" .\"],\n",
    "            [\".\", \" .\", \" .\", \" .\", \" .\", \" .\", \".\", \" .\"],\n",
    "            [\".\", \" .\", \" .\", \" .\", \" .\", \" .\", \".\", \" .\"],\n",
    "            [\".\", \" .\", \" .\", \" .\", \" .\", \" .\", \".\", \" .\"],\n",
    "            [\"♙\", \"♙\", \"♙\", \"♙\", \"♙\", \"♙\", \"♙\", \"♙\"],\n",
    "            [\"♖\", \"♘\", \"♗\", \"♕\", \"♔\", \"♗\", \"♘\", \"♖\"],\n",
    "        ]\n",
    "        self.turn = \"white\"  # white moves first\n",
    "\n",
    "    def print_board(self):\n",
    "        # Print column headers\n",
    "        print(\"  a  b  c  d  e  f g  h\")\n",
    "        for i, row in enumerate(self.board):\n",
    "            # Compute rank: board row 0 is rank 8, row 7 is rank 1\n",
    "            rank = 8 - i\n",
    "            print(rank, \" \".join(row), rank)\n",
    "        print(\"  a  b  c  d  e f  g  h\\n\")\n",
    "\n",
    "    def move_piece(self, start, end):\n",
    "        # Convert positions like \"e2\" to board indices\n",
    "        try:\n",
    "            start_row = 8 - int(start[1])\n",
    "            start_col = ord(start[0].lower()) - ord('a')\n",
    "            end_row = 8 - int(end[1])\n",
    "            end_col = ord(end[0].lower()) - ord('a')\n",
    "        except (IndexError, ValueError):\n",
    "            print(\"Invalid input format.\")\n",
    "            return False\n",
    "\n",
    "        piece = self.board[start_row][start_col]\n",
    "        if piece == \".\":\n",
    "            print(\"No piece at the starting square!\")\n",
    "            return False\n",
    "\n",
    "        # (In a full game you would check here that the move is valid for this piece\n",
    "        # and that you aren’t moving an opponent’s piece, etc.)\n",
    "        self.board[end_row][end_col] = piece\n",
    "        self.board[start_row][start_col] = \".\"\n",
    "        self.turn = \"black\" if self.turn == \"white\" else \"white\"\n",
    "        return True\n",
    "\n",
    "\n",
    "def main():\n",
    "    game = ChessBoard()\n",
    "    game.print_board()\n",
    "\n",
    "    while True:\n",
    "        prompt = f\"{game.turn.capitalize()}'s move (e.g., e2 e4) or type 'quit': \"\n",
    "        user_input = input(prompt).strip()\n",
    "        if user_input.lower() in [\"quit\", \"exit\"]:\n",
    "            print(\"Game terminated.\")\n",
    "            break\n",
    "\n",
    "        try:\n",
    "            start, end = user_input.split()\n",
    "        except ValueError:\n",
    "            print(\"Please enter two positions separated by a space (e.g., 'e2 e4').\")\n",
    "            continue\n",
    "\n",
    "        if game.move_piece(start, end):\n",
    "            game.print_board()\n",
    "        else:\n",
    "            print(\"Move not executed. Try again.\")\n",
    "\n",
    "\n",
    "if __name__ == \"__main__\":\n",
    "    main()\n"
   ]
  },
  {
   "cell_type": "code",
   "execution_count": null,
   "id": "d978c709-c8a3-412e-98f1-ae1e4159bdea",
   "metadata": {},
   "outputs": [],
   "source": []
  }
 ],
 "metadata": {
  "kernelspec": {
   "display_name": "Python 3 (ipykernel)",
   "language": "python",
   "name": "python3"
  },
  "language_info": {
   "codemirror_mode": {
    "name": "ipython",
    "version": 3
   },
   "file_extension": ".py",
   "mimetype": "text/x-python",
   "name": "python",
   "nbconvert_exporter": "python",
   "pygments_lexer": "ipython3",
   "version": "3.11.3"
  }
 },
 "nbformat": 4,
 "nbformat_minor": 5
}
